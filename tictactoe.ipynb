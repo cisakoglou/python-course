{
 "cells": [
  {
   "cell_type": "code",
   "execution_count": 767,
   "metadata": {
    "collapsed": true
   },
   "outputs": [],
   "source": [
    "# >>>> Started 1530 Tuesday 6 February\n",
    "\n",
    "# for a GUI use ktinker?\n",
    "import tkinter as tk"
   ]
  },
  {
   "cell_type": "code",
   "execution_count": 768,
   "metadata": {
    "collapsed": true
   },
   "outputs": [],
   "source": [
    "# Make a canvas\n",
    "# -------------------------------------------------------\n",
    "\n",
    "#size\n",
    "w, h = 300, 300\n",
    "\n",
    "#create a canvas\n",
    "window = tk.Tk()\n",
    "canvas = tk.Canvas(window, width=w, height=h)\n",
    "canvas.pack()"
   ]
  },
  {
   "cell_type": "code",
   "execution_count": 769,
   "metadata": {},
   "outputs": [
    {
     "data": {
      "text/plain": [
       "4"
      ]
     },
     "execution_count": 769,
     "metadata": {},
     "output_type": "execute_result"
    }
   ],
   "source": [
    "# Draw lines on the canvas\n",
    "# -------------------------------------------------------\n",
    "canvas.create_line(0, 100, 300, 100) #first horizontal line\n",
    "canvas.create_line(0, 200, 300, 200) #second horizontal line\n",
    "canvas.create_line(100, 0, 100, 300) #first vertical line\n",
    "canvas.create_line(200, 0, 200, 300) #second vertical line"
   ]
  },
  {
   "cell_type": "code",
   "execution_count": 770,
   "metadata": {
    "collapsed": true
   },
   "outputs": [],
   "source": [
    "# ok I think what needs to happen is when you click on the board the canvas\n",
    "# refreshes and a O or X appears, probably you need to make the O and X before\n",
    "# maybe predefine on each of the 9 positions a O and X? That seems to complicated..\n",
    "# and a lot of code. Then you need to define who's turn it is too.\n",
    "\n",
    "# hm maybe make a list of coordinates and refer to those when clicked?"
   ]
  },
  {
   "cell_type": "code",
   "execution_count": 771,
   "metadata": {},
   "outputs": [
    {
     "data": {
      "text/plain": [
       "5"
      ]
     },
     "execution_count": 771,
     "metadata": {},
     "output_type": "execute_result"
    }
   ],
   "source": [
    "# Draw a circle to see how this works (figured out all coordinates)\n",
    "# -------------------------------------------------------\n",
    "canvas.create_oval(210, 210, 290, 290, fill=\"red\")"
   ]
  },
  {
   "cell_type": "code",
   "execution_count": 772,
   "metadata": {
    "collapsed": true
   },
   "outputs": [],
   "source": [
    "# Stopped 1615 Tuesday 6 February\n",
    "# Continued 1815 Tuesday 6 February\n",
    "\n",
    "# Draw a circle to see how this works\n",
    "# -------------------------------------------------------\n",
    "positionlist = [\n",
    "    [10,10,90,90],[110, 10, 190, 90],[210, 10, 290, 90],\n",
    "    [10,110,90,190],[110, 110, 190, 190],[210, 110, 290, 190],\n",
    "    [10,210,90,290],[110, 210, 190, 290],[210, 210, 290, 290]]"
   ]
  },
  {
   "cell_type": "code",
   "execution_count": 773,
   "metadata": {},
   "outputs": [
    {
     "data": {
      "text/plain": [
       "6"
      ]
     },
     "execution_count": 773,
     "metadata": {},
     "output_type": "execute_result"
    }
   ],
   "source": [
    "# Draw a circle to see how this works > refering to the list\n",
    "# -------------------------------------------------------\n",
    "canvas.create_oval(positionlist[1], fill=\"red\")\n"
   ]
  },
  {
   "cell_type": "code",
   "execution_count": 774,
   "metadata": {
    "collapsed": true
   },
   "outputs": [],
   "source": [
    "# ok so now i can draw something on the board and have all \n",
    "# the possible coordiantes, now make a square too"
   ]
  },
  {
   "cell_type": "code",
   "execution_count": 775,
   "metadata": {},
   "outputs": [
    {
     "data": {
      "text/plain": [
       "7"
      ]
     },
     "execution_count": 775,
     "metadata": {},
     "output_type": "execute_result"
    }
   ],
   "source": [
    "# Draw a square to see how this works > refering to the list\n",
    "# -------------------------------------------------------\n",
    "canvas.create_rectangle(positionlist[6], fill=\"blue\")\n",
    "\n"
   ]
  },
  {
   "cell_type": "code",
   "execution_count": 776,
   "metadata": {
    "collapsed": true
   },
   "outputs": [],
   "source": [
    "# now I have the positions and shapes next step is to figure out if i can redraw\n",
    "# a canvas and the if that can happen with a click and only then i need to create\n",
    "# functions etc that check the position and whos turn and when it is done etc."
   ]
  },
  {
   "cell_type": "code",
   "execution_count": 777,
   "metadata": {
    "collapsed": true
   },
   "outputs": [],
   "source": [
    "# Redraw a canvas\n",
    "# -------------------------------------------------------\n",
    "# Stopped 1845 Tuesday 6 February\n",
    "# Continued 0930 Wednesday 7 February\n",
    "\n",
    "# .. ok maybe first see if i can click on the canvas"
   ]
  },
  {
   "cell_type": "code",
   "execution_count": null,
   "metadata": {
    "collapsed": true
   },
   "outputs": [],
   "source": []
  },
  {
   "cell_type": "code",
   "execution_count": 778,
   "metadata": {
    "collapsed": true
   },
   "outputs": [],
   "source": [
    "# Click on a canvas\n",
    "# -------------------------------------------------------\n",
    "\n",
    "#now added a a square and when you click it will be removed\n",
    "exm = canvas.create_rectangle(positionlist[0], fill=\"black\")\n",
    "\n",
    "def callback():\n",
    "    print(\"I clicked on the button and removed a square\")\n",
    "    canvas.delete(exm)\n",
    "    \n",
    "# the button method needs a function to refer to, what happens if you click the\n",
    "# button\n",
    "btn = tk.Button(window, text=\"REMOVE\",command=callback)\n",
    "btn.pack() \n"
   ]
  },
  {
   "cell_type": "code",
   "execution_count": 779,
   "metadata": {
    "collapsed": true
   },
   "outputs": [],
   "source": [
    "# but then this is a button so either i have to make in invisible ... or what I want is to\n",
    "# click on teh canvas and get the coordinates.. these i can use then to redraw and put the \n",
    "# new object in the square\n",
    "\n",
    "# the button is great for when i want to make a GUI for data analysis later.."
   ]
  },
  {
   "cell_type": "code",
   "execution_count": 780,
   "metadata": {
    "collapsed": true
   },
   "outputs": [],
   "source": [
    "# i guess with the button i can add stuff\n",
    "def addobject():    \n",
    "    print(\"I clicked on the button and added a square\")\n",
    "    canvas.create_rectangle(positionlist[8], fill=\"black\")\n",
    "    \n",
    "# the button method needs a function to refer to, what happens if you click the\n",
    "# button\n",
    "btn2 = tk.Button(window, text=\"ADD\",command=addobject)\n",
    "btn2.pack() "
   ]
  },
  {
   "cell_type": "code",
   "execution_count": 781,
   "metadata": {
    "collapsed": true
   },
   "outputs": [],
   "source": [
    "# now this has to happen when clicking on the canvas not a button"
   ]
  },
  {
   "cell_type": "code",
   "execution_count": 782,
   "metadata": {
    "collapsed": true
   },
   "outputs": [],
   "source": [
    "#def canvasclick(cor):\n",
    "#    print(\"clicked at\", cor.x, cor.y)\n",
    "#canvas.bind(\"<Button-1>\", canvasclick)\n",
    "#canvas.pack()\n",
    "\n",
    "# oke great... now these coordinates i can use to refer to tge list and add a object\n",
    "\n",
    "# comment it out"
   ]
  },
  {
   "cell_type": "code",
   "execution_count": 783,
   "metadata": {},
   "outputs": [
    {
     "name": "stdout",
     "output_type": "stream",
     "text": [
      "coordinates: 41 48\n",
      "coordinates: 47 167\n",
      "coordinates: 50 257\n",
      "coordinates: 175 256\n",
      "coordinates: 271 247\n",
      "coordinates: 262 149\n",
      "coordinates: 163 154\n",
      "coordinates: 161 32\n",
      "coordinates: 242 41\n"
     ]
    }
   ],
   "source": [
    "def canvasclick(cor):\n",
    "    if cor.x < 90 and cor.y < 90:\n",
    "        canvas.create_rectangle(positionlist[0], fill=\"green\")\n",
    "    elif cor.x < 190 and cor.y < 90:\n",
    "        canvas.create_rectangle(positionlist[1], fill=\"green\")\n",
    "    elif cor.x < 290 and cor.y < 90:\n",
    "        canvas.create_rectangle(positionlist[2], fill=\"green\")\n",
    "    elif cor.x < 90 and cor.y < 190:\n",
    "        canvas.create_rectangle(positionlist[3], fill=\"green\")\n",
    "    elif cor.x < 190 and cor.y < 190:\n",
    "        canvas.create_rectangle(positionlist[4], fill=\"green\")\n",
    "    elif cor.x < 290 and cor.y < 190:\n",
    "        canvas.create_rectangle(positionlist[5], fill=\"green\")\n",
    "    elif cor.x < 90 and cor.y < 290:\n",
    "        canvas.create_rectangle(positionlist[6], fill=\"green\")\n",
    "    elif cor.x < 190 and cor.y < 290:\n",
    "        canvas.create_rectangle(positionlist[7], fill=\"green\")\n",
    "    elif cor.x < 290 and cor.y < 290:\n",
    "        canvas.create_rectangle(positionlist[8], fill=\"green\")\n",
    "    else:\n",
    "        print(\"not a valid click\")\n",
    "    print(\"coordinates:\",cor.x, cor.y)\n",
    "canvas.bind(\"<Button-1>\", canvasclick)\n",
    "canvas.pack()\n",
    "\n",
    "# NICE :):) Now it has to be so that 2 persons play it so each click is\n",
    "# either a square or a circle\n",
    "\n",
    "# Stopped 1110 Wednesday 7 February"
   ]
  },
  {
   "cell_type": "code",
   "execution_count": 40,
   "metadata": {},
   "outputs": [
    {
     "name": "stdout",
     "output_type": "stream",
     "text": [
      "coordinates: 60 42\n",
      "coordinates: 161 50\n",
      "coordinates: 147 42\n",
      "coordinates: 265 51\n",
      "coordinates: 137 160\n",
      "coordinates: 284 160\n",
      "coordinates: 254 245\n",
      "coordinates: 158 241\n",
      "coordinates: 76 241\n"
     ]
    }
   ],
   "source": [
    "# Continued 1945 Wednesday 7 February\n",
    "\n",
    "# START OVER SO I CAN RUN ONE THING\n",
    "# -------------------------------------------------------\n",
    "\n",
    "# import library\n",
    "import tkinter as tk\n",
    "\n",
    "# Make a canvas\n",
    "# -------------------------------------------------------\n",
    "\n",
    "# size\n",
    "w, h = 300, 300\n",
    "\n",
    "# create a canvas\n",
    "window = tk.Tk()\n",
    "canvas = tk.Canvas(window, width=w, height=h)\n",
    "canvas.pack()\n",
    "\n",
    "# draw the lines\n",
    "canvas.create_line(0, 100, 300, 100) #first horizontal line\n",
    "canvas.create_line(0, 200, 300, 200) #second horizontal line\n",
    "canvas.create_line(100, 0, 100, 300) #first vertical line\n",
    "canvas.create_line(200, 0, 200, 300) #second vertical line\n",
    "\n",
    "# Settings\n",
    "# -------------------------------------------------------\n",
    "\n",
    "# predefine coordinates\n",
    "positionlist = [\n",
    "    [10,10,90,90],[110, 10, 190, 90],[210, 10, 290, 90],\n",
    "    [10,110,90,190],[110, 110, 190, 190],[210, 110, 290, 190],\n",
    "    [10,210,90,290],[110, 210, 190, 290],[210, 210, 290, 290]]\n",
    "\n",
    "# create a counter to keep track of clicks\n",
    "cnt = 0\n",
    "\n",
    "# The game\n",
    "# -------------------------------------------------------\n",
    "\n",
    "# function determining what to do in case a click occurs\n",
    "def canvasclick(cor):\n",
    "    \n",
    "    # variable will be updates thus make global\n",
    "    global cnt\n",
    "    \n",
    "    # only 9 clicks possible\n",
    "    if cnt < 9:\n",
    "    \n",
    "        # which player\n",
    "        colors=[\"green\", \"red\"]\n",
    "\n",
    "        # odds/even determines the player\n",
    "        if cnt % 2 == 0:\n",
    "            pl = 0\n",
    "        else:\n",
    "            pl = 1\n",
    "\n",
    "        # what to do in case of a click\n",
    "        if cor.x < 90 and cor.y < 90:\n",
    "            canvas.create_rectangle(positionlist[0], fill=colors[pl])\n",
    "        elif cor.x < 190 and cor.y < 90:\n",
    "            canvas.create_rectangle(positionlist[1], fill=colors[pl])\n",
    "        elif cor.x < 290 and cor.y < 90:\n",
    "            canvas.create_rectangle(positionlist[2], fill=colors[pl])\n",
    "        elif cor.x < 90 and cor.y < 190:\n",
    "            canvas.create_rectangle(positionlist[3], fill=colors[pl])\n",
    "        elif cor.x < 190 and cor.y < 190:\n",
    "            canvas.create_rectangle(positionlist[4], fill=colors[pl])\n",
    "        elif cor.x < 290 and cor.y < 190:\n",
    "            canvas.create_rectangle(positionlist[5], fill=colors[pl])\n",
    "        elif cor.x < 90 and cor.y < 290:\n",
    "            canvas.create_rectangle(positionlist[6], fill=colors[pl])\n",
    "        elif cor.x < 190 and cor.y < 290:\n",
    "            canvas.create_rectangle(positionlist[7], fill=colors[pl])\n",
    "        elif cor.x < 290 and cor.y < 290:\n",
    "            canvas.create_rectangle(positionlist[8], fill=colors[pl])\n",
    "        else:\n",
    "            print(\"not a valid click\")\n",
    "        print(\"coordinates:\",cor.x, cor.y)\n",
    "        cnt += 1\n",
    "\n",
    "# run    \n",
    "canvas.bind(\"<Button-1>\", canvasclick)\n",
    "canvas.pack()\n",
    "\n",
    "# start\n",
    "tk.mainloop()\n",
    "\n",
    "# Continued 2025 Wednesday 7 February\n",
    "\n",
    "# TO DO\n",
    "# 1. now you can click on a position that already has something and it will change\n",
    "# 2. the color changes but I want a O and a X instead\n",
    "# 3. when there are 3 in a row make a line\n",
    "# 4. make a button which restarts the game\n",
    "# 5. I think invalid click also update the counter... this should not be the case\n"
   ]
  },
  {
   "cell_type": "code",
   "execution_count": 15,
   "metadata": {},
   "outputs": [
    {
     "name": "stdout",
     "output_type": "stream",
     "text": [
      "This button should restart the game\n",
      "This button should restart the game\n"
     ]
    }
   ],
   "source": [
    "# Continued 825 Thursday 8 February\n",
    "\n",
    "# Import library\n",
    "import tkinter as tk\n",
    "\n",
    "# Make a canvas\n",
    "# -------------------------------------------------------\n",
    "\n",
    "# size\n",
    "w, h = 300, 300\n",
    "\n",
    "# create a canvas\n",
    "window = tk.Tk()\n",
    "canvas = tk.Canvas(window, width=w, height=h)\n",
    "canvas.pack()\n",
    "\n",
    "# draw the lines\n",
    "canvas.create_line(0, 100, 300, 100) #first horizontal line\n",
    "canvas.create_line(0, 200, 300, 200) #second horizontal line\n",
    "canvas.create_line(100, 0, 100, 300) #first vertical line\n",
    "canvas.create_line(200, 0, 200, 300) #second vertical line\n",
    "\n",
    "# Settings\n",
    "# -------------------------------------------------------\n",
    "\n",
    "# predefine coordinates\n",
    "positionlist = [\n",
    "    [10,10,90,90],[110, 10, 190, 90],[210, 10, 290, 90],\n",
    "    [10,110,90,190],[110, 110, 190, 190],[210, 110, 290, 190],\n",
    "    [10,210,90,290],[110, 210, 190, 290],[210, 210, 290, 290]]\n",
    "\n",
    "# create a counter to keep track of clicks\n",
    "cnt = 0\n",
    "\n",
    "# player\n",
    "colors=[\"green\", \"red\"]\n",
    "cnt_list=[[0,0,0,0,0,0,0,0,0],[0,0,0,0,0,0,0,0,0]]\n",
    "\n",
    "# The game\n",
    "# -------------------------------------------------------\n",
    "\n",
    "# function determining what to do in case a click occurs\n",
    "def canvasclick(cor):\n",
    "    \n",
    "    # variable will be updated thus make global\n",
    "    global cnt\n",
    "    \n",
    "    # combine the lists in one that keeps track of filled positions\n",
    "    tmp_list=[x + y for x, y in zip(cnt_list[0], cnt_list[1])]\n",
    "    \n",
    "    # only 9 clicks possible\n",
    "    if sum(tmp_list) < 9:\n",
    "\n",
    "        #keep track of positions\n",
    "        tmp_list=[x + y for x, y in zip(cnt_list[0], cnt_list[1])]\n",
    "\n",
    "        # odds/even determines the player\n",
    "        if cnt % 2 == 0:\n",
    "            pl = 0\n",
    "        else:\n",
    "            pl = 1\n",
    "\n",
    "        # what to do in case of a click\n",
    "        if cor.x < 90 and cor.y < 90:\n",
    "            if tmp_list[0]==0:\n",
    "                exm = canvas.create_rectangle(positionlist[0], fill=colors[pl])\n",
    "                cnt_list[pl][0]=1\n",
    "                cnt += 1\n",
    "        elif cor.x < 190 and cor.y < 90:\n",
    "            if tmp_list[1]==0:\n",
    "                canvas.create_rectangle(positionlist[1], fill=colors[pl])\n",
    "                cnt_list[pl][1]=1\n",
    "                cnt += 1\n",
    "        elif cor.x < 290 and cor.y < 90:\n",
    "            if tmp_list[2]==0:\n",
    "                canvas.create_rectangle(positionlist[2], fill=colors[pl])\n",
    "                cnt_list[pl][2]=1\n",
    "                cnt += 1\n",
    "        elif cor.x < 90 and cor.y < 190:\n",
    "            if tmp_list[3]==0:\n",
    "                canvas.create_rectangle(positionlist[3], fill=colors[pl])\n",
    "                cnt_list[pl][3]=1\n",
    "                cnt += 1\n",
    "        elif cor.x < 190 and cor.y < 190:\n",
    "            if tmp_list[4]==0:\n",
    "                canvas.create_rectangle(positionlist[4], fill=colors[pl])\n",
    "                cnt_list[pl][4]=1\n",
    "                cnt += 1\n",
    "        elif cor.x < 290 and cor.y < 190:\n",
    "            if tmp_list[5]==0:\n",
    "                canvas.create_rectangle(positionlist[5], fill=colors[pl])\n",
    "                cnt_list[pl][5]=1\n",
    "                cnt += 1\n",
    "        elif cor.x < 90 and cor.y < 290:\n",
    "            if tmp_list[6]==0:\n",
    "                canvas.create_rectangle(positionlist[6], fill=colors[pl])\n",
    "                cnt_list[pl][6]=1\n",
    "                cnt += 1\n",
    "        elif cor.x < 190 and cor.y < 290:\n",
    "            if tmp_list[7]==0:\n",
    "                canvas.create_rectangle(positionlist[7], fill=colors[pl])\n",
    "                cnt_list[pl][7]=1\n",
    "                cnt += 1\n",
    "        elif cor.x < 290 and cor.y < 290:\n",
    "            if tmp_list[8]==0:\n",
    "                canvas.create_rectangle(positionlist[8], fill=colors[pl])\n",
    "                cnt_list[pl][8]=1\n",
    "                cnt += 1\n",
    "        else:\n",
    "            print(\"not a valid click\")\n",
    "        \n",
    "        # Now check if a player has three in a row and draw a line\n",
    "        if sum(cnt_list[0][0:3]) == 3 or sum(cnt_list[1][0:3]) == 3:\n",
    "            canvas.create_line(0, 50, 300, 50, width=10)\n",
    "        elif sum(cnt_list[0][3:6]) == 3 or sum(cnt_list[1][3:6]) == 3:\n",
    "            canvas.create_line(0, 150, 300, 150, width=10)\n",
    "        elif sum(cnt_list[0][6:9]) == 3 or sum(cnt_list[1][6:]) == 3:\n",
    "            canvas.create_line(0, 250, 300, 250, width=10)\n",
    "        elif sum( cnt_list[0][i] for i in [0,3,6] ) == 3 or sum( cnt_list[1][i] for i in [0,3,6] ) == 3:\n",
    "            canvas.create_line(50, 0, 50, 300, width=10)\n",
    "        elif sum( cnt_list[0][i] for i in [1,4,7] ) == 3 or sum( cnt_list[1][i] for i in [1,4,7] ) == 3:\n",
    "            canvas.create_line(150, 0, 150, 300, width=10)\n",
    "        elif sum( cnt_list[0][i] for i in [2,5,8] ) == 3 or sum( cnt_list[1][i] for i in [2,5,8] ) == 3:\n",
    "            canvas.create_line(250, 0, 250, 300, width=10)\n",
    "        elif sum( cnt_list[0][i] for i in [0,4,8] ) == 3 or sum( cnt_list[1][i] for i in [0,4,8] ) == 3:\n",
    "            canvas.create_line(10, 10, 290, 290, width=10)\n",
    "        elif sum( cnt_list[0][i] for i in [2,4,6] ) == 3 or sum( cnt_list[1][i] for i in [2,4,6] ) == 3:\n",
    "            canvas.create_line(10, 290, 290, 10, width=10)\n",
    "            \n",
    "\n",
    "\n",
    "\n",
    "\n",
    "# run    \n",
    "canvas.bind(\"<Button-1>\", canvasclick)\n",
    "canvas.pack()\n",
    "\n",
    "# Make a button that restarts the game\n",
    "def restart():\n",
    "    print(\"This button should restart the game\")\n",
    "    \n",
    "\n",
    "btn = tk.Button(window, text=\"RESTART\",command=restart)\n",
    "btn.pack()\n",
    "\n",
    "# start\n",
    "tk.mainloop()"
   ]
  },
  {
   "cell_type": "code",
   "execution_count": 13,
   "metadata": {
    "collapsed": true
   },
   "outputs": [],
   "source": [
    "# TO DO\n",
    "# 1. the color changes but I want a O and a X instead\n",
    "# 2. make a button which restarts the game\n",
    "\n",
    "# Stopped 1000 Thursday 8 February"
   ]
  },
  {
   "cell_type": "code",
   "execution_count": 9,
   "metadata": {},
   "outputs": [
    {
     "ename": "AttributeError",
     "evalue": "'NoneType' object has no attribute 'tk'",
     "output_type": "error",
     "traceback": [
      "\u001b[0;31m---------------------------------------------------------------------------\u001b[0m",
      "\u001b[0;31mAttributeError\u001b[0m                            Traceback (most recent call last)",
      "\u001b[0;32m<ipython-input-9-60a148e52c66>\u001b[0m in \u001b[0;36m<module>\u001b[0;34m()\u001b[0m\n\u001b[1;32m    153\u001b[0m \u001b[0;31m# start\u001b[0m\u001b[0;34m\u001b[0m\u001b[0;34m\u001b[0m\u001b[0m\n\u001b[1;32m    154\u001b[0m \u001b[0;32mwhile\u001b[0m \u001b[0mx\u001b[0m\u001b[0;34m==\u001b[0m\u001b[0;36m1\u001b[0m\u001b[0;34m:\u001b[0m\u001b[0;34m\u001b[0m\u001b[0m\n\u001b[0;32m--> 155\u001b[0;31m     \u001b[0mtk\u001b[0m\u001b[0;34m.\u001b[0m\u001b[0mmainloop\u001b[0m\u001b[0;34m(\u001b[0m\u001b[0;34m)\u001b[0m\u001b[0;34m\u001b[0m\u001b[0m\n\u001b[0m",
      "\u001b[0;32m~/anaconda3/lib/python3.6/tkinter/__init__.py\u001b[0m in \u001b[0;36mmainloop\u001b[0;34m(n)\u001b[0m\n\u001b[1;32m    555\u001b[0m \u001b[0;32mdef\u001b[0m \u001b[0mmainloop\u001b[0m\u001b[0;34m(\u001b[0m\u001b[0mn\u001b[0m\u001b[0;34m=\u001b[0m\u001b[0;36m0\u001b[0m\u001b[0;34m)\u001b[0m\u001b[0;34m:\u001b[0m\u001b[0;34m\u001b[0m\u001b[0m\n\u001b[1;32m    556\u001b[0m     \u001b[0;34m\"\"\"Run the main loop of Tcl.\"\"\"\u001b[0m\u001b[0;34m\u001b[0m\u001b[0m\n\u001b[0;32m--> 557\u001b[0;31m     \u001b[0m_default_root\u001b[0m\u001b[0;34m.\u001b[0m\u001b[0mtk\u001b[0m\u001b[0;34m.\u001b[0m\u001b[0mmainloop\u001b[0m\u001b[0;34m(\u001b[0m\u001b[0mn\u001b[0m\u001b[0;34m)\u001b[0m\u001b[0;34m\u001b[0m\u001b[0m\n\u001b[0m\u001b[1;32m    558\u001b[0m \u001b[0;34m\u001b[0m\u001b[0m\n\u001b[1;32m    559\u001b[0m \u001b[0mgetint\u001b[0m \u001b[0;34m=\u001b[0m \u001b[0mint\u001b[0m\u001b[0;34m\u001b[0m\u001b[0m\n",
      "\u001b[0;31mAttributeError\u001b[0m: 'NoneType' object has no attribute 'tk'"
     ]
    }
   ],
   "source": [
    "# Continued 2051 Thursday 8 February\n",
    "\n",
    "# Import library\n",
    "import tkinter as tk\n",
    "\n",
    "# Make a canvas\n",
    "# -------------------------------------------------------\n",
    "\n",
    "# size\n",
    "w, h = 300, 300\n",
    "\n",
    "# create a canvas\n",
    "window = tk.Tk()\n",
    "canvas = tk.Canvas(window, width=w, height=h)\n",
    "canvas.pack()\n",
    "\n",
    "# draw the lines\n",
    "canvas.create_line(0, 100, 300, 100) #first horizontal line\n",
    "canvas.create_line(0, 200, 300, 200) #second horizontal line\n",
    "canvas.create_line(100, 0, 100, 300) #first vertical line\n",
    "canvas.create_line(200, 0, 200, 300) #second vertical line\n",
    "\n",
    "# Settings\n",
    "# -------------------------------------------------------\n",
    "\n",
    "# predefine coordinates\n",
    "positionlist = [\n",
    "    [10,10,90,90],[110, 10, 190, 90],[210, 10, 290, 90],\n",
    "    [10,110,90,190],[110, 110, 190, 190],[210, 110, 290, 190],\n",
    "    [10,210,90,290],[110, 210, 190, 290],[210, 210, 290, 290]]\n",
    "\n",
    "# create a counter to keep track of clicks\n",
    "cnt = 0\n",
    "\n",
    "# player\n",
    "colors=[\"white\", \"black\"]\n",
    "cnt_list=[[0]*9, [0]*9]\n",
    "\n",
    "x=1\n",
    "\n",
    "# The game\n",
    "# -------------------------------------------------------\n",
    "\n",
    "# function determining what to do in case a click occurs\n",
    "def canvasclick(cor):\n",
    "    \n",
    "    # variable will be updated thus make global\n",
    "    global cnt, cnt_list\n",
    "    \n",
    "    # combine the lists in one that keeps track of filled positions\n",
    "    tmp_list=[x + y for x, y in zip(cnt_list[0], cnt_list[1])]\n",
    "    \n",
    "    # only 9 clicks possible\n",
    "    if sum(tmp_list) < 9:\n",
    "\n",
    "        #keep track of positions\n",
    "        tmp_list=[x + y for x, y in zip(cnt_list[0], cnt_list[1])]\n",
    "\n",
    "        # odds/even determines the player\n",
    "        if cnt % 2 == 0:\n",
    "            pl = 0\n",
    "        else:\n",
    "            pl = 1    \n",
    "            \n",
    "        # what to do in case of a click\n",
    "        if cor.x < 90 and cor.y < 90:\n",
    "            if tmp_list[0]==0:\n",
    "                canvas.create_rectangle(positionlist[0], fill=colors[pl])\n",
    "                cnt_list[pl][0]=1\n",
    "                cnt += 1\n",
    "        elif cor.x < 190 and cor.y < 90:\n",
    "            if tmp_list[1]==0:\n",
    "                canvas.create_rectangle(positionlist[1], fill=colors[pl])\n",
    "                cnt_list[pl][1]=1\n",
    "                cnt += 1\n",
    "        elif cor.x < 290 and cor.y < 90:\n",
    "            if tmp_list[2]==0:\n",
    "                canvas.create_rectangle(positionlist[2], fill=colors[pl])\n",
    "                cnt_list[pl][2]=1\n",
    "                cnt += 1\n",
    "        elif cor.x < 90 and cor.y < 190:\n",
    "            if tmp_list[3]==0:\n",
    "                canvas.create_rectangle(positionlist[3], fill=colors[pl])\n",
    "                cnt_list[pl][3]=1\n",
    "                cnt += 1\n",
    "        elif cor.x < 190 and cor.y < 190:\n",
    "            if tmp_list[4]==0:\n",
    "                canvas.create_rectangle(positionlist[4], fill=colors[pl])\n",
    "                cnt_list[pl][4]=1\n",
    "                cnt += 1\n",
    "        elif cor.x < 290 and cor.y < 190:\n",
    "            if tmp_list[5]==0:\n",
    "                canvas.create_rectangle(positionlist[5], fill=colors[pl])\n",
    "                cnt_list[pl][5]=1\n",
    "                cnt += 1\n",
    "        elif cor.x < 90 and cor.y < 290:\n",
    "            if tmp_list[6]==0:\n",
    "                canvas.create_rectangle(positionlist[6], fill=colors[pl])\n",
    "                cnt_list[pl][6]=1\n",
    "                cnt += 1\n",
    "        elif cor.x < 190 and cor.y < 290:\n",
    "            if tmp_list[7]==0:\n",
    "                canvas.create_rectangle(positionlist[7], fill=colors[pl])\n",
    "                cnt_list[pl][7]=1\n",
    "                cnt += 1\n",
    "        elif cor.x < 290 and cor.y < 290:\n",
    "            if tmp_list[8]==0:\n",
    "                canvas.create_rectangle(positionlist[8], fill=colors[pl])\n",
    "                cnt_list[pl][8]=1\n",
    "                cnt += 1\n",
    "        else:\n",
    "            print(\"not a valid click\")\n",
    "        \n",
    "        # Now check if a player has three in a row and draw a line\n",
    "        if sum(cnt_list[0][0:3]) == 3 or sum(cnt_list[1][0:3]) == 3:\n",
    "            canvas.create_line(0, 50, 300, 50, width=10)\n",
    "            cnt_list=[[1]*9, [1]*9]\n",
    "        elif sum(cnt_list[0][3:6]) == 3 or sum(cnt_list[1][3:6]) == 3:\n",
    "            canvas.create_line(0, 150, 300, 150, width=10)\n",
    "            cnt_list=[[1]*9, [1]*9]\n",
    "        elif sum(cnt_list[0][6:9]) == 3 or sum(cnt_list[1][6:]) == 3:\n",
    "            canvas.create_line(0, 250, 300, 250, width=10)\n",
    "            cnt_list=[[1]*9, [1]*9]\n",
    "        elif sum( cnt_list[0][i] for i in [0,3,6] ) == 3 or sum( cnt_list[1][i] for i in [0,3,6] ) == 3:\n",
    "            canvas.create_line(50, 0, 50, 300, width=10)\n",
    "            cnt_list=[[1]*9, [1]*9]\n",
    "        elif sum( cnt_list[0][i] for i in [1,4,7] ) == 3 or sum( cnt_list[1][i] for i in [1,4,7] ) == 3:\n",
    "            canvas.create_line(150, 0, 150, 300, width=10)\n",
    "            cnt_list=[[1]*9, [1]*9]\n",
    "        elif sum( cnt_list[0][i] for i in [2,5,8] ) == 3 or sum( cnt_list[1][i] for i in [2,5,8] ) == 3:\n",
    "            canvas.create_line(250, 0, 250, 300, width=10)\n",
    "            cnt_list=[[1]*9, [1]*9]\n",
    "        elif sum( cnt_list[0][i] for i in [0,4,8] ) == 3 or sum( cnt_list[1][i] for i in [0,4,8] ) == 3:\n",
    "            canvas.create_line(10, 10, 290, 290, width=10)\n",
    "            cnt_list=[[1]*9, [1]*9]\n",
    "        elif sum( cnt_list[0][i] for i in [2,4,6] ) == 3 or sum( cnt_list[1][i] for i in [2,4,6] ) == 3:\n",
    "            canvas.create_line(10, 290, 290, 10, width=10)\n",
    "            cnt_list=[[1]*9, [1]*9]\n",
    "\n",
    "# run    \n",
    "canvas.bind(\"<Button-1>\", canvasclick)\n",
    "canvas.pack()\n",
    "\n",
    "# Make a button that restarts the game\n",
    "def restart():\n",
    "    print(\"This button should restart the game\")\n",
    "    x=0\n",
    "    \n",
    "\n",
    "btn = tk.Button(window, text=\"RESTART\",command=restart)\n",
    "btn.pack()\n",
    "\n",
    "# start\n",
    "tk.mainloop()"
   ]
  },
  {
   "cell_type": "code",
   "execution_count": null,
   "metadata": {},
   "outputs": [],
   "source": []
  },
  {
   "cell_type": "code",
   "execution_count": 30,
   "metadata": {},
   "outputs": [
    {
     "data": {
      "text/plain": [
       "[[1, 1, 1, 1, 1, 1, 1, 1, 1], [1, 1, 1, 1, 1, 1, 1, 1, 1]]"
      ]
     },
     "execution_count": 30,
     "metadata": {},
     "output_type": "execute_result"
    }
   ],
   "source": [
    "cnt_list"
   ]
  },
  {
   "cell_type": "code",
   "execution_count": null,
   "metadata": {
    "collapsed": true
   },
   "outputs": [],
   "source": []
  },
  {
   "cell_type": "code",
   "execution_count": null,
   "metadata": {
    "collapsed": true
   },
   "outputs": [],
   "source": []
  }
 ],
 "metadata": {
  "kernelspec": {
   "display_name": "Python 3",
   "language": "python",
   "name": "python3"
  },
  "language_info": {
   "codemirror_mode": {
    "name": "ipython",
    "version": 3
   },
   "file_extension": ".py",
   "mimetype": "text/x-python",
   "name": "python",
   "nbconvert_exporter": "python",
   "pygments_lexer": "ipython3",
   "version": "3.6.4"
  }
 },
 "nbformat": 4,
 "nbformat_minor": 2
}
